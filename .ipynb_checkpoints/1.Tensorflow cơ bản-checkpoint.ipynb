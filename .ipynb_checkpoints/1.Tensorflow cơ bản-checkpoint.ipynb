{
 "cells": [
  {
   "cell_type": "markdown",
   "metadata": {},
   "source": [
    "để lắp đặt:\n",
    "    https://www.tensorflow.org/install/"
   ]
  },
  {
   "cell_type": "code",
   "execution_count": 3,
   "metadata": {},
   "outputs": [],
   "source": [
    "import tensorflow as tf\n",
    "import numpy as np"
   ]
  },
  {
   "cell_type": "markdown",
   "metadata": {},
   "source": [
    "Một tensor thì cũng khá giống một array nhiều chiều. Cụ thể thì tensor 0 chiều là hằng số, tensor một chiều là vector, tensor 2 chiều là ma trận,..."
   ]
  },
  {
   "cell_type": "code",
   "execution_count": 4,
   "metadata": {},
   "outputs": [],
   "source": [
    "a = tf.zeros((2,2))\n",
    "b = tf.ones((2,2))"
   ]
  },
  {
   "cell_type": "code",
   "execution_count": 8,
   "metadata": {},
   "outputs": [
    {
     "data": {
      "text/plain": [
       "TensorShape([Dimension(2), Dimension(2)])"
      ]
     },
     "execution_count": 8,
     "metadata": {},
     "output_type": "execute_result"
    }
   ],
   "source": [
    "a.get_shape()"
   ]
  },
  {
   "cell_type": "code",
   "execution_count": 10,
   "metadata": {},
   "outputs": [
    {
     "data": {
      "text/plain": [
       "<tf.Tensor 'Reshape_1:0' shape=(1, 4) dtype=float32>"
      ]
     },
     "execution_count": 10,
     "metadata": {},
     "output_type": "execute_result"
    }
   ],
   "source": [
    "# reshape a tensor: thay đổi hình dạng tensor\n",
    "tf.reshape(a,(1,4))"
   ]
  },
  {
   "cell_type": "markdown",
   "metadata": {},
   "source": [
    "Phép cộng 2 tensor qua việc chạy một session:  "
   ]
  },
  {
   "cell_type": "code",
   "execution_count": 11,
   "metadata": {},
   "outputs": [
    {
     "name": "stdout",
     "output_type": "stream",
     "text": [
      "5\n",
      "5\n"
     ]
    }
   ],
   "source": [
    "a = tf.constant(1)\n",
    "b = tf.constant(5)\n",
    "c = a*b\n",
    "with tf.Session() as s: # khởi tạo quá trình\n",
    "    # các phép toán thực hiện trong qúa trình:\n",
    "    print(c.eval()) # eval là viết tắt cho evaluate\n",
    "    print(s.run(c))"
   ]
  },
  {
   "cell_type": "markdown",
   "metadata": {},
   "source": [
    "các loại dữ tensor: xem\n",
    "https://www.tensorflow.org/api_docs/python/tf/DType\n",
    "\n",
    "# Tensorflow và numpy:\n",
    "\n",
    "khi ta gọi hàm ``eval`` thì kết quả trả về là một numpy object. Chú ý là một tensor object cũng giống như một biến trong một hàm toán học. Chúng là symbolic nên ta phải gọi eval() để tính toán.\n",
    "\n",
    "ngược lại, ta cũng có thể biến một numpy array thành tensor:"
   ]
  },
  {
   "cell_type": "code",
   "execution_count": 3,
   "metadata": {},
   "outputs": [
    {
     "data": {
      "text/plain": [
       "<tf.Tensor 'Const_1:0' shape=(2, 2) dtype=float32>"
      ]
     },
     "execution_count": 3,
     "metadata": {},
     "output_type": "execute_result"
    }
   ],
   "source": [
    "s = tf.Session() # bắt đầu một quá trình (session)\n",
    "x = np.array([[2,1],[2,4]])\n",
    "x = tf.convert_to_tensor(x,dtype = tf.float32)\n",
    "x"
   ]
  },
  {
   "cell_type": "markdown",
   "metadata": {},
   "source": [
    "# Variable: biến ngẫu nhiên\n",
    "\n",
    "Việc tính toán trong tensorflow được thực hiện theo kiểu graph (đồ thị). Một đồ thị như vậy được chạy rất nhiều lần. Các tham số mô hình thì thường được lưu dưới dạng ``tf.Variable`` và được cập nhật  mỗi lần train cái graph. "
   ]
  },
  {
   "cell_type": "code",
   "execution_count": 12,
   "metadata": {},
   "outputs": [
    {
     "data": {
      "text/plain": [
       "<tf.Variable 'random_weights:0' shape=(2, 2) dtype=float32_ref>"
      ]
     },
     "execution_count": 12,
     "metadata": {},
     "output_type": "execute_result"
    }
   ],
   "source": [
    "rw = tf.Variable(tf.random_normal((2,2)),name='random_weights')\n",
    "rw"
   ]
  },
  {
   "cell_type": "markdown",
   "metadata": {},
   "source": [
    "Khi chạy, ta phải initialize giá trị của các biến có trong session (khởi tạo giá trị) bằng ``tf.global_variables_initializer()``, sau đó mới chạy quá trình:"
   ]
  },
  {
   "cell_type": "code",
   "execution_count": 13,
   "metadata": {},
   "outputs": [
    {
     "name": "stdout",
     "output_type": "stream",
     "text": [
      "[[-0.84599155  0.62220675]\n",
      " [ 0.3463604   0.4837368 ]]\n"
     ]
    }
   ],
   "source": [
    "with tf.Session() as s:\n",
    "    s.run(tf.global_variables_initializer())\n",
    "    print(s.run(rw))"
   ]
  },
  {
   "cell_type": "code",
   "execution_count": 14,
   "metadata": {},
   "outputs": [
    {
     "name": "stdout",
     "output_type": "stream",
     "text": [
      "[1, 2]\n",
      "[2, 4]\n",
      "[3, 6]\n",
      "[4, 8]\n",
      "[5, 10]\n"
     ]
    }
   ],
   "source": [
    "# Tensorflow variable state update: cập nhật trạng thái của tensor\n",
    "var1 = tf.Variable(0,name='Var1')\n",
    "add_op = tf.add(var1,tf.constant(1))\n",
    "upd_op = tf.assign(var1,add_op)\n",
    "final_op = add_op*2\n",
    "with tf.Session() as s:\n",
    "    s.run(tf.global_variables_initializer())\n",
    "    for i in range(5):\n",
    "        print(s.run([upd_op,final_op]))"
   ]
  },
  {
   "cell_type": "code",
   "execution_count": 15,
   "metadata": {
    "scrolled": true
   },
   "outputs": [
    {
     "name": "stdout",
     "output_type": "stream",
     "text": [
      "[[1. 1. 1.]\n",
      " [1. 1. 1.]\n",
      " [1. 1. 1.]]\n"
     ]
    }
   ],
   "source": [
    "a = np.ones((3,3))\n",
    "b = tf.convert_to_tensor(a)\n",
    "with tf.Session() as s:\n",
    "    print(s.run(b))"
   ]
  },
  {
   "cell_type": "markdown",
   "metadata": {},
   "source": [
    "# Place holder & Feed dictionary:\n",
    "trong tensorflow, ta feed data vào mô hình (cho mô hình ăn dữ liệu) và chạy để nó trả ra output. Để làm điều này, ta dùng ``tf.placeholder`` để hold (giữ đồ ăn) và Feed Dictionary là dictionary chứa dữ liệu đi vào.\n",
    "\n",
    "Ví dụ về phép nhân ma trận:"
   ]
  },
  {
   "cell_type": "code",
   "execution_count": 16,
   "metadata": {},
   "outputs": [
    {
     "name": "stdout",
     "output_type": "stream",
     "text": [
      "[array([[10.]], dtype=float32)]\n"
     ]
    }
   ],
   "source": [
    "inp1 = tf.placeholder(tf.float32,shape = (1,2))\n",
    "inp2 = tf.placeholder(tf.float32,shape = (2,1))\n",
    "output = tf.matmul(inp1,inp2)\n",
    "with tf.Session() as s:\n",
    "    print(s.run([output], feed_dict = {inp1:[[1,3]], inp2:[[1],[3]]}))"
   ]
  },
  {
   "cell_type": "markdown",
   "metadata": {},
   "source": [
    "Tham khảo: Building Machine Learning Projects with Tensorflow (2016, Packt Publishing)"
   ]
  },
  {
   "cell_type": "code",
   "execution_count": null,
   "metadata": {},
   "outputs": [],
   "source": []
  }
 ],
 "metadata": {
  "kernelspec": {
   "display_name": "Python 2",
   "language": "python",
   "name": "python2"
  },
  "language_info": {
   "codemirror_mode": {
    "name": "ipython",
    "version": 2
   },
   "file_extension": ".py",
   "mimetype": "text/x-python",
   "name": "python",
   "nbconvert_exporter": "python",
   "pygments_lexer": "ipython2",
   "version": "2.7.15"
  }
 },
 "nbformat": 4,
 "nbformat_minor": 2
}
