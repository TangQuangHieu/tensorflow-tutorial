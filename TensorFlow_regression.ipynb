{
 "cells": [
  {
   "cell_type": "markdown",
   "metadata": {},
   "source": [
    "- Node: perform computation and have zero or more inputs and outputs. Data that moves between nodes are tensors, which are multi-dimensional arrays of real values.\n",
    "- Edges: the graph defines the flow of data, branching, looping and updates to state. \n",
    "- Opereation: a named abstract computation which can take input attributes and produce output atributes. Ex: add/divide operation"
   ]
  },
  {
   "cell_type": "code",
   "execution_count": 6,
   "metadata": {},
   "outputs": [
    {
     "name": "stdout",
     "output_type": "stream",
     "text": [
      "42\n"
     ]
    }
   ],
   "source": [
    "import tensorflow as tf\n",
    "sess = tf.Session()\n",
    "a = tf.constant(10)\n",
    "b = tf.constant(32)\n",
    "print(sess.run(a+b))"
   ]
  },
  {
   "cell_type": "markdown",
   "metadata": {},
   "source": [
    "## Linear Regression with TensorFlow"
   ]
  },
  {
   "cell_type": "code",
   "execution_count": 5,
   "metadata": {},
   "outputs": [
    {
     "name": "stdout",
     "output_type": "stream",
     "text": [
      "(0, array([ 0.03335816], dtype=float32), array([ 0.48357326], dtype=float32))\n",
      "(20, array([ 0.0637418], dtype=float32), array([ 0.32032865], dtype=float32))\n",
      "(40, array([ 0.08980974], dtype=float32), array([ 0.30571333], dtype=float32))\n",
      "(60, array([ 0.09713605], dtype=float32), array([ 0.30160573], dtype=float32))\n",
      "(80, array([ 0.09919509], dtype=float32), array([ 0.30045131], dtype=float32))\n",
      "(100, array([ 0.09977377], dtype=float32), array([ 0.30012685], dtype=float32))\n",
      "(120, array([ 0.09993641], dtype=float32), array([ 0.30003566], dtype=float32))\n",
      "(140, array([ 0.09998213], dtype=float32), array([ 0.30001003], dtype=float32))\n",
      "(160, array([ 0.09999496], dtype=float32), array([ 0.30000284], dtype=float32))\n",
      "(180, array([ 0.09999859], dtype=float32), array([ 0.30000079], dtype=float32))\n",
      "(200, array([ 0.0999996], dtype=float32), array([ 0.30000025], dtype=float32))\n"
     ]
    }
   ],
   "source": [
    "import numpy as np\n",
    "import tensorflow as tf\n",
    "import matplotlib.patches as mpatches\n",
    "import matplotlib.pyplot as plt\n",
    "%matplotlib inline\n",
    "plt.rcParams['figure.figsize'] = (10, 6)\n",
    "\n",
    "# create 100 data points: y = 0.1 x +.3\n",
    "x_data = np.random.rand(100).astype(np.float32)\n",
    "y_data = 0.1 * x_data + .3\n",
    "\n",
    "# Try  to find values for W, b s.t: y = w*x +b\n",
    "w = tf.Variable(tf.random_uniform([1], -1, 1))\n",
    "b = tf.Variable(tf.zeros([1]))\n",
    "y = w * x_data + b\n",
    "\n",
    "# Minimize the mean squared errors:\n",
    "loss = tf.reduce_mean(tf.square(y-y_data))\n",
    "optimizer = tf.train.GradientDescentOptimizer(0.5)\n",
    "train = optimizer.minimize(loss)\n",
    "\n",
    "# Initialize the variables\n",
    "init = tf.initialize_all_variables()\n",
    "\n",
    "# Launch the graph\n",
    "sess = tf.Session()\n",
    "sess.run(init)\n",
    "\n",
    "# Fit the line\n",
    "for step in xrange(201):\n",
    "    sess.run(train)\n",
    "    if step % 20 == 0:\n",
    "        print(step,sess.run(w), sess.run(b))\n",
    "\n",
    "# Learns best fit is W = 0.1, b = 0.3        "
   ]
  },
  {
   "cell_type": "markdown",
   "metadata": {},
   "source": [
    "## Linear regression: 2nd code"
   ]
  },
  {
   "cell_type": "code",
   "execution_count": 6,
   "metadata": {},
   "outputs": [
    {
     "name": "stdout",
     "output_type": "stream",
     "text": [
      "(0, [0.73176467, -0.17356972])\n",
      "(5, [0.59717858, 0.021516776])\n",
      "(10, [0.46191591, 0.09708631])\n",
      "(15, [0.36351353, 0.15225755])\n",
      "(20, [0.29186594, 0.19242774])\n",
      "(25, [0.23969886, 0.22167593])\n",
      "(30, [0.20171565, 0.24297173])\n",
      "(35, [0.17405982, 0.25847736])\n",
      "(40, [0.15392342, 0.26976711])\n",
      "(45, [0.13926199, 0.27798724])\n",
      "(50, [0.12858692, 0.28397235])\n",
      "(55, [0.12081432, 0.28833017])\n",
      "(60, [0.11515506, 0.29150313])\n",
      "(65, [0.11103449, 0.29381338])\n",
      "(70, [0.10803428, 0.29549548])\n",
      "(75, [0.1058498, 0.29672024])\n",
      "(80, [0.10425929, 0.29761198])\n",
      "(85, [0.10310122, 0.29826128])\n",
      "(90, [0.10225802, 0.29873404])\n",
      "(95, [0.10164407, 0.29907826])\n"
     ]
    }
   ],
   "source": [
    "# initialize the variables a and b, with any random guess,\n",
    "a = tf.Variable(1.0)\n",
    "b = tf.Variable(0.2)\n",
    "y = a * x_data + b\n",
    "#To find Loss's value, we use __tf.reduce_mean()__. \n",
    "# This function finds the mean of a multidimensional tensor, and the result can have a diferent dimension.\n",
    "loss = tf.reduce_mean(tf.square(y - y_data))\n",
    "# optimizer method: gradient descent with a learning rate of 0.5: \n",
    "#.minimize()__ will minimize the error function of our optimizer, resulting in a better model.\n",
    "optimizer = tf.train.GradientDescentOptimizer(0.5)\n",
    "train = optimizer.minimize(loss)\n",
    "init = tf.global_variables_initializer()\n",
    "sess = tf.Session()\n",
    "sess.run(init)\n",
    "# Run the graph\n",
    "train_data = []\n",
    "for step in range(100):\n",
    "    evals = sess.run([train,a,b])[1:]\n",
    "    if step % 5 == 0:\n",
    "        print(step, evals)\n",
    "        train_data.append(evals)"
   ]
  },
  {
   "cell_type": "code",
   "execution_count": 7,
   "metadata": {},
   "outputs": [
    {
     "data": {
      "image/png": "[encoded data removed]",
      "text/plain": [
       "<Figure size 720x432 with 1 Axes>"
      ]
     },
     "metadata": {},
     "output_type": "display_data"
    }
   ],
   "source": [
    "converter = plt.colors\n",
    "cr, cg, cb = (1.0, 1.0, 0.0)\n",
    "for f in train_data:\n",
    "    cb += 1.0 / len(train_data)\n",
    "    cg -= 1.0 / len(train_data)\n",
    "    if cb > 1.0: cb = 1.0\n",
    "    if cg < 0.0: cg = 0.0\n",
    "    [a, b] = f\n",
    "    f_y = np.vectorize(lambda x: a*x + b)(x_data)\n",
    "    line = plt.plot(x_data, f_y)\n",
    "    plt.setp(line, color=(cr,cg,cb))\n",
    "\n",
    "plt.plot(x_data, y_data, 'ro')\n",
    "green_line = mpatches.Patch(color='red', label='Data Points')\n",
    "plt.legend(handles=[green_line])\n",
    "plt.show()"
   ]
  },
  {
   "cell_type": "markdown",
   "metadata": {},
   "source": [
    "## Logistic regression:"
   ]
  },
  {
   "cell_type": "code",
   "execution_count": 10,
   "metadata": {},
   "outputs": [
    {
     "name": "stderr",
     "output_type": "stream",
     "text": [
      "/home/thu/anaconda2/lib/python2.7/site-packages/sklearn/cross_validation.py:41: DeprecationWarning: This module was deprecated in version 0.18 in favor of the model_selection module into which all the refactored classes and functions are moved. Also note that the interface of the new CV iterators are different from that of this module. This module will be removed in 0.20.\n",
      "  \"This module will be removed in 0.20.\", DeprecationWarning)\n"
     ]
    }
   ],
   "source": [
    "import tensorflow as tf\n",
    "import pandas as pd\n",
    "import numpy as np\n",
    "import time\n",
    "from sklearn.datasets import load_iris\n",
    "from sklearn.cross_validation import train_test_split\n",
    "import matplotlib.pyplot as plt\n",
    "iris = load_iris()\n",
    "iris_X, iris_y = iris.data[:-1,:], iris.target[:-1]\n",
    "iris_y = pd.get_dummies(iris_y).values\n",
    "trainX, testX, trainY, testY = train_test_split(iris_X, iris_y, test_size = 0.33, random_state = 42)"
   ]
  },
  {
   "cell_type": "markdown",
   "metadata": {},
   "source": [
    "Now we define x and y. These placeholders will hold our iris data (both the features and label matrices), and help pass them along to different parts of the algorithm. You can consider placeholders as empty shells into which we insert our data. We also need to give them shapes which correspond to the shape of our data. Later, we will insert data into these placeholders by “feeding” the placeholders the data via a “feed_dict” (Feed Dictionary).\n",
    "\n",
    "### Why use Placeholders?  \n",
    "1) This feature of TensorFlow allows us to create an algorithm which accepts data and knows something about the shape of the data without knowing the amount of data going in. <br><br>\n",
    "2) When we insert “batches” of data in training, we can easily adjust how many examples we train on in a single step without changing the entire algorithm.\n",
    "### model\n",
    "$$\n",
    "ŷ =sigmoid(WX+b)\n",
    "$$\n",
    "\n",
    "For the sake of clarity, we can have it broken into its three main components: \n",
    "- a weight times features matrix multiplication operation, \n",
    "- a summation of the weighted features and a bias term, \n",
    "- and finally the application of a sigmoid function. "
   ]
  },
  {
   "cell_type": "code",
   "execution_count": 14,
   "metadata": {},
   "outputs": [],
   "source": [
    "# numFeatures is the number of features in our input data.\n",
    "numFeatures = trainX.shape[1]\n",
    "# numLabels is the number of classes our data points can be in.\n",
    "numLabels = trainY.shape[1]\n",
    "# Placeholders\n",
    "# 'None' means TensorFlow shouldn't expect a fixed number in that dimension\n",
    "X = tf.placeholder(tf.float32, [None, numFeatures]) # Iris has 4 features, so X is a tensor to hold our data.\n",
    "yGold = tf.placeholder(tf.float32, [None, numLabels]) # This will be our correct answers matrix for 3 classes.\n",
    "W = tf.Variable(tf.zeros([4,3])) # 4 - dimensional input; 3 classes in the output\n",
    "b = tf.Variable(tf.zeros([3])) # 3 - dimensional output [0,0,1],[0,1,0],[1,0,0]\n",
    "#Randomly sample from a normal distribution with standard deviation .01\n",
    "weights = tf.Variable(tf.random_normal([numFeatures,numLabels],\n",
    "                                       mean=0,\n",
    "                                       stddev=0.01,\n",
    "                                       name=\"weights\"))\n",
    "bias = tf.Variable(tf.random_normal([1,numLabels],\n",
    "                                    mean=0,\n",
    "                                    stddev=0.01,\n",
    "                                    name=\"bias\"))\n",
    "# Three-component breakdown of the Logistic Regression equation.\n",
    "# Note that these feed into each other.\n",
    "apply_weights_OP = tf.matmul(X, weights, name=\"apply_weights\")\n",
    "add_bias_OP = tf.add(apply_weights_OP, bias, name=\"add_bias\") \n",
    "activation_OP = tf.nn.sigmoid(add_bias_OP, name=\"activation\")"
   ]
  },
  {
   "cell_type": "markdown",
   "metadata": {},
   "source": [
    "As we have seen before, the function we are going to use is the _logistic function_ $(\\frac{1}{1+e^{-x}})$, which is fed the input data after applying weights and bias. In TensorFlow, this function is implemented as the `nn.sigmoid` function. Effectively, this fits the weighted input with bias into a 0-100 percent curve, which is the probability function we want."
   ]
  },
  {
   "cell_type": "code",
   "execution_count": 16,
   "metadata": {},
   "outputs": [],
   "source": [
    "numEpochs = 700\n",
    "# Defining our learning rate iterations (decay)\n",
    "learningRate = tf.train.exponential_decay(learning_rate=0.0008,\n",
    "                                          global_step= 1,\n",
    "                                          decay_steps=trainX.shape[0],\n",
    "                                          decay_rate= 0.95,\n",
    "                                          staircase=True)\n",
    "#Defining our cost function - Squared Mean Error\n",
    "cost_OP = tf.nn.l2_loss(activation_OP-yGold, name=\"squared_error_cost\")\n",
    "training_OP = tf.train.GradientDescentOptimizer(learningRate).minimize(cost_OP)\n",
    "sess = tf.Session()\n",
    "init_OP = tf.global_variables_initializer()\n",
    "# Initialize all tensorflow variables\n",
    "sess.run(init_OP)\n",
    "# argmax(activation_OP, 1) returns the label with the most probability\n",
    "# argmax(yGold, 1) is the correct label\n",
    "correct_predictions_OP = tf.equal(tf.argmax(activation_OP,1),tf.argmax(yGold,1))\n",
    "# If every false prediction is 0 and every true prediction is 1, the average returns us the accuracy\n",
    "accuracy_OP = tf.reduce_mean(tf.cast(correct_predictions_OP, \"float\"))\n",
    "# Summary op for regression output\n",
    "activation_summary_OP = tf.summary.histogram(\"output\", activation_OP)\n",
    "# Summary op for accuracy\n",
    "accuracy_summary_OP = tf.summary.scalar(\"accuracy\", accuracy_OP)\n",
    "# Summary op for cost\n",
    "cost_summary_OP = tf.summary.scalar(\"cost\", cost_OP)\n",
    "# Summary ops to check how variables (W, b) are updating after each iteration\n",
    "weightSummary = tf.summary.histogram(\"weights\", weights.eval(session=sess))\n",
    "biasSummary = tf.summary.histogram(\"biases\", bias.eval(session=sess))\n",
    "# Merge all summaries\n",
    "merged = tf.summary.merge([activation_summary_OP, accuracy_summary_OP, cost_summary_OP, weightSummary, biasSummary])\n",
    "# Summary writer\n",
    "writer = tf.summary.FileWriter(\"summary_logs\", sess.graph)"
   ]
  },
  {
   "cell_type": "code",
   "execution_count": 17,
   "metadata": {},
   "outputs": [
    {
     "name": "stdout",
     "output_type": "stream",
     "text": [
      "step 0, training accuracy 0.353535, cost 34.7759, change in cost 34.7759\n",
      "step 10, training accuracy 0.515152, cost 30.0988, change in cost 4.67711\n",
      "step 20, training accuracy 0.646465, cost 28.1636, change in cost 1.93526\n",
      "step 30, training accuracy 0.646465, cost 26.5279, change in cost 1.63568\n",
      "step 40, training accuracy 0.646465, cost 25.1665, change in cost 1.3614\n",
      "step 50, training accuracy 0.646465, cost 24.0401, change in cost 1.12639\n",
      "step 60, training accuracy 0.646465, cost 23.1066, change in cost 0.933472\n",
      "step 70, training accuracy 0.646465, cost 22.3283, change in cost 0.778391\n",
      "step 80, training accuracy 0.646465, cost 21.6736, change in cost 0.654667\n",
      "step 90, training accuracy 0.646465, cost 21.1176, change in cost 0.55596\n",
      "step 100, training accuracy 0.666667, cost 20.6408, change in cost 0.476852\n",
      "step 110, training accuracy 0.666667, cost 20.2278, change in cost 0.413021\n",
      "step 120, training accuracy 0.666667, cost 19.8667, change in cost 0.361092\n",
      "step 130, training accuracy 0.666667, cost 19.5482, change in cost 0.318483\n",
      "step 140, training accuracy 0.666667, cost 19.265, change in cost 0.283222\n",
      "step 150, training accuracy 0.666667, cost 19.0112, change in cost 0.253792\n",
      "step 160, training accuracy 0.676768, cost 18.7821, change in cost 0.229029\n",
      "step 170, training accuracy 0.686869, cost 18.5741, change in cost 0.208029\n",
      "step 180, training accuracy 0.69697, cost 18.384, change in cost 0.190083\n",
      "step 190, training accuracy 0.707071, cost 18.2094, change in cost 0.174662\n",
      "step 200, training accuracy 0.717172, cost 18.0481, change in cost 0.161293\n",
      "step 210, training accuracy 0.737374, cost 17.8984, change in cost 0.149645\n",
      "step 220, training accuracy 0.737374, cost 17.759, change in cost 0.139444\n",
      "step 230, training accuracy 0.747475, cost 17.6285, change in cost 0.130451\n",
      "step 240, training accuracy 0.757576, cost 17.506, change in cost 0.12248\n",
      "step 250, training accuracy 0.777778, cost 17.3907, change in cost 0.115389\n",
      "step 260, training accuracy 0.787879, cost 17.2816, change in cost 0.109039\n",
      "step 270, training accuracy 0.787879, cost 17.1783, change in cost 0.10334\n",
      "step 280, training accuracy 0.787879, cost 17.0801, change in cost 0.0981979\n",
      "step 290, training accuracy 0.787879, cost 16.9865, change in cost 0.0935383\n",
      "step 300, training accuracy 0.79798, cost 16.8972, change in cost 0.0893021\n",
      "step 310, training accuracy 0.79798, cost 16.8118, change in cost 0.0854416\n",
      "step 320, training accuracy 0.79798, cost 16.7299, change in cost 0.0818977\n",
      "step 330, training accuracy 0.79798, cost 16.6512, change in cost 0.0786514\n",
      "step 340, training accuracy 0.808081, cost 16.5756, change in cost 0.0756569\n",
      "step 350, training accuracy 0.818182, cost 16.5027, change in cost 0.0728855\n",
      "step 360, training accuracy 0.838384, cost 16.4324, change in cost 0.070322\n",
      "step 370, training accuracy 0.838384, cost 16.3644, change in cost 0.0679436\n",
      "step 380, training accuracy 0.838384, cost 16.2987, change in cost 0.0657234\n",
      "step 390, training accuracy 0.838384, cost 16.2351, change in cost 0.0636501\n",
      "step 400, training accuracy 0.848485, cost 16.1734, change in cost 0.0617142\n",
      "step 410, training accuracy 0.848485, cost 16.1135, change in cost 0.0598946\n",
      "step 420, training accuracy 0.848485, cost 16.0553, change in cost 0.0581856\n",
      "step 430, training accuracy 0.858586, cost 15.9987, change in cost 0.0565796\n",
      "step 440, training accuracy 0.858586, cost 15.9436, change in cost 0.0550594\n",
      "step 450, training accuracy 0.868687, cost 15.89, change in cost 0.0536261\n",
      "step 460, training accuracy 0.868687, cost 15.8377, change in cost 0.0522661\n",
      "step 470, training accuracy 0.878788, cost 15.7868, change in cost 0.0509796\n",
      "step 480, training accuracy 0.878788, cost 15.737, change in cost 0.0497541\n",
      "step 490, training accuracy 0.878788, cost 15.6884, change in cost 0.0485935\n",
      "step 500, training accuracy 0.878788, cost 15.6409, change in cost 0.0474834\n",
      "step 510, training accuracy 0.878788, cost 15.5945, change in cost 0.0464258\n",
      "step 520, training accuracy 0.878788, cost 15.5491, change in cost 0.0454159\n",
      "step 530, training accuracy 0.888889, cost 15.5046, change in cost 0.0444527\n",
      "step 540, training accuracy 0.888889, cost 15.4611, change in cost 0.0435247\n",
      "step 550, training accuracy 0.89899, cost 15.4185, change in cost 0.0426388\n",
      "step 560, training accuracy 0.89899, cost 15.3767, change in cost 0.0417881\n",
      "step 570, training accuracy 0.89899, cost 15.3357, change in cost 0.0409718\n",
      "step 580, training accuracy 0.89899, cost 15.2955, change in cost 0.040184\n",
      "step 590, training accuracy 0.89899, cost 15.2561, change in cost 0.0394306\n",
      "step 600, training accuracy 0.909091, cost 15.2174, change in cost 0.0387001\n",
      "step 610, training accuracy 0.909091, cost 15.1794, change in cost 0.0379992\n",
      "step 620, training accuracy 0.909091, cost 15.1421, change in cost 0.0373211\n",
      "step 630, training accuracy 0.909091, cost 15.1054, change in cost 0.0366669\n",
      "step 640, training accuracy 0.909091, cost 15.0694, change in cost 0.0360346\n",
      "step 650, training accuracy 0.909091, cost 15.034, change in cost 0.0354204\n",
      "step 660, training accuracy 0.909091, cost 14.9991, change in cost 0.0348301\n",
      "step 670, training accuracy 0.909091, cost 14.9649, change in cost 0.0342579\n",
      "step 680, training accuracy 0.909091, cost 14.9312, change in cost 0.033699\n",
      "step 690, training accuracy 0.909091, cost 14.898, change in cost 0.0331621\n",
      "final accuracy on test set: 0.9\n"
     ]
    }
   ],
   "source": [
    "# Initialize reporting variables\n",
    "cost = 0\n",
    "diff = 1\n",
    "epoch_values = []\n",
    "accuracy_values = []\n",
    "cost_values = []\n",
    "# Training epochs\n",
    "for i in range(numEpochs):\n",
    "    if i > 1 and diff < .0001:\n",
    "        print(\"change in cost %g; convergence.\"%diff)\n",
    "        break\n",
    "    else:\n",
    "        # Run training step\n",
    "        step = sess.run(training_OP, feed_dict={X: trainX, yGold: trainY})\n",
    "        # Report occasional stats\n",
    "        if i % 10 == 0:\n",
    "            # Add epoch to epoch_values\n",
    "            epoch_values.append(i)\n",
    "            # Generate accuracy stats on test data\n",
    "            train_accuracy, newCost = sess.run([accuracy_OP, cost_OP], feed_dict={X: trainX, yGold: trainY})\n",
    "            # Add accuracy to live graphing variable\n",
    "            accuracy_values.append(train_accuracy)\n",
    "            # Add cost to live graphing variable\n",
    "            cost_values.append(newCost)\n",
    "            # Re-assign values for variables\n",
    "            diff = abs(newCost - cost)\n",
    "            cost = newCost\n",
    "            #generate print statements\n",
    "            print(\"step %d, training accuracy %g, cost %g, change in cost %g\"%(i, train_accuracy, newCost, diff))\n",
    "\n",
    "# How well do we perform on held-out test data?\n",
    "print(\"final accuracy on test set: %s\" %str(sess.run(accuracy_OP, \n",
    "                                                     feed_dict={X: testX, \n",
    "                                                                yGold: testY})))"
   ]
  },
  {
   "cell_type": "code",
   "execution_count": 18,
   "metadata": {},
   "outputs": [
    {
     "name": "stderr",
     "output_type": "stream",
     "text": [
      "/home/thu/anaconda2/lib/python2.7/site-packages/numpy/core/fromnumeric.py:2889: RuntimeWarning: Mean of empty slice.\n",
      "  out=out, **kwargs)\n",
      "/home/thu/anaconda2/lib/python2.7/site-packages/numpy/core/_methods.py:80: RuntimeWarning: invalid value encountered in double_scalars\n",
      "  ret = ret.dtype.type(ret / rcount)\n"
     ]
    },
    {
     "data": {
      "image/png": "[encoded data removed]",
      "text/plain": [
       "<Figure size 432x288 with 1 Axes>"
      ]
     },
     "metadata": {},
     "output_type": "display_data"
    }
   ],
   "source": [
    "# plot the cost\n",
    "%matplotlib inline\n",
    "import numpy as np\n",
    "import matplotlib.pyplot as plt\n",
    "plt.plot([np.mean(cost_values[i-50:i]) for i in range(len(cost_values))])\n",
    "plt.show()"
   ]
  },
  {
   "cell_type": "markdown",
   "metadata": {},
   "source": [
    "## Iris classification:\n",
    "\n",
    "Input function returns a tf.data.Dataset object which outputs:\n",
    "- features: a dictionary: each key is the  name of a feature; each value is  an array containing all of that feature's values\n",
    "- label: an array containing the values of the label for every example"
   ]
  },
  {
   "cell_type": "code",
   "execution_count": null,
   "metadata": {
    "collapsed": true
   },
   "outputs": [],
   "source": [
    "def input_evaluation_set():\n",
    "    features = {\n",
    "        'SepalLength': np.array\n",
    "    }"
   ]
  }
 ],
 "metadata": {
  "kernelspec": {
   "display_name": "Python 3",
   "language": "python",
   "name": "python3"
  },
  "language_info": {
   "codemirror_mode": {
    "name": "ipython",
    "version": 3
   },
   "file_extension": ".py",
   "mimetype": "text/x-python",
   "name": "python",
   "nbconvert_exporter": "python",
   "pygments_lexer": "ipython3",
   "version": "3.6.4"
  }
 },
 "nbformat": 4,
 "nbformat_minor": 2
}
